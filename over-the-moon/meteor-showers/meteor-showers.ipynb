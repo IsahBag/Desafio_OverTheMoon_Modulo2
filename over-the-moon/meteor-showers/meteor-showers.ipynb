{
 "cells": [
  {
   "cell_type": "markdown",
   "metadata": {},
   "source": [
    "# Parte 1 - Analisando os dados"
   ]
  },
  {
   "cell_type": "code",
   "execution_count": 1,
   "metadata": {},
   "outputs": [],
   "source": [
    "import numpy as np \n",
    "import pandas as pd "
   ]
  },
  {
   "cell_type": "code",
   "execution_count": 2,
   "metadata": {},
   "outputs": [],
   "source": [
    "meteor_showers = pd.read_csv('data/meteorshowers.csv')\n",
    "moon_phases = pd.read_csv('data/moonphases.csv')\n",
    "constellations = pd.read_csv('data/constellations.csv')\n",
    "cities = pd.read_csv('data/cities.csv')"
   ]
  },
  {
   "cell_type": "code",
   "execution_count": 3,
   "metadata": {},
   "outputs": [],
   "source": [
    "change_meteor_shower = {'name':'Chang\\'e','radiant':'Draco','bestmonth':'october','startmonth':'october','startday':1,'endmonth':'october','endday':31,'hemisphere':'northern','preferredhemisphere':'northern'}\n",
    "\n",
    "meteor_showers = pd.concat([meteor_showers, pd.DataFrame(change_meteor_shower, index=[0])], ignore_index=True)"
   ]
  },
  {
   "cell_type": "code",
   "execution_count": 4,
   "metadata": {},
   "outputs": [],
   "source": [
    "draco_constellation = {'constellation':'Draco','bestmonth':'july','latitudestart':90,'latitudeend':-15,'besttime':2100,'hemisphere':'northern'}\n",
    "\n",
    "constellations = pd.concat([constellations, pd.DataFrame(draco_constellation, index=[0])], ignore_index=True)"
   ]
  },
  {
   "cell_type": "code",
   "execution_count": 5,
   "metadata": {},
   "outputs": [
    {
     "name": "stdout",
     "output_type": "stream",
     "text": [
      "<class 'pandas.core.frame.DataFrame'>\n",
      "RangeIndex: 6 entries, 0 to 5\n",
      "Data columns (total 9 columns):\n",
      " #   Column               Non-Null Count  Dtype \n",
      "---  ------               --------------  ----- \n",
      " 0   name                 6 non-null      object\n",
      " 1   radiant              6 non-null      object\n",
      " 2   bestmonth            6 non-null      object\n",
      " 3   startmonth           6 non-null      object\n",
      " 4   startday             6 non-null      int64 \n",
      " 5   endmonth             6 non-null      object\n",
      " 6   endday               6 non-null      int64 \n",
      " 7   hemisphere           6 non-null      object\n",
      " 8   preferredhemisphere  6 non-null      object\n",
      "dtypes: int64(2), object(7)\n",
      "memory usage: 560.0+ bytes\n",
      "<class 'pandas.core.frame.DataFrame'>\n",
      "RangeIndex: 366 entries, 0 to 365\n",
      "Data columns (total 4 columns):\n",
      " #   Column        Non-Null Count  Dtype \n",
      "---  ------        --------------  ----- \n",
      " 0   month         366 non-null    object\n",
      " 1   day           366 non-null    int64 \n",
      " 2   moonphase     50 non-null     object\n",
      " 3   specialevent  10 non-null     object\n",
      "dtypes: int64(1), object(3)\n",
      "memory usage: 11.6+ KB\n",
      "<class 'pandas.core.frame.DataFrame'>\n",
      "RangeIndex: 6 entries, 0 to 5\n",
      "Data columns (total 6 columns):\n",
      " #   Column         Non-Null Count  Dtype \n",
      "---  ------         --------------  ----- \n",
      " 0   constellation  6 non-null      object\n",
      " 1   bestmonth      6 non-null      object\n",
      " 2   latitudestart  6 non-null      int64 \n",
      " 3   latitudeend    6 non-null      int64 \n",
      " 4   besttime       6 non-null      object\n",
      " 5   hemisphere     6 non-null      object\n",
      "dtypes: int64(2), object(4)\n",
      "memory usage: 416.0+ bytes\n",
      "<class 'pandas.core.frame.DataFrame'>\n",
      "RangeIndex: 256 entries, 0 to 255\n",
      "Data columns (total 3 columns):\n",
      " #   Column    Non-Null Count  Dtype  \n",
      "---  ------    --------------  -----  \n",
      " 0   city      256 non-null    object \n",
      " 1   latitude  256 non-null    float64\n",
      " 2   country   256 non-null    object \n",
      "dtypes: float64(1), object(2)\n",
      "memory usage: 6.1+ KB\n"
     ]
    }
   ],
   "source": [
    "meteor_showers.head()\n",
    "meteor_showers.info()\n",
    "moon_phases.head()\n",
    "moon_phases.info()\n",
    "constellations.head()\n",
    "constellations.info()\n",
    "cities.head()\n",
    "cities.info()"
   ]
  },
  {
   "cell_type": "markdown",
   "metadata": {},
   "source": [
    "Criando um mapa de meses para números e mapeando os meses para as colunas que possuem meses:"
   ]
  },
  {
   "cell_type": "code",
   "execution_count": 6,
   "metadata": {},
   "outputs": [],
   "source": [
    "months = {'january':1, 'february':2, 'march':3, 'april':4, 'may':5, 'june':6, 'july':7, 'august':8, 'september':9, 'october':10, 'november':11, 'december':12}\n",
    "meteor_showers.bestmonth = meteor_showers.bestmonth.map(months)\n",
    "meteor_showers.startmonth = meteor_showers.startmonth.map(months)\n",
    "meteor_showers.endmonth = meteor_showers.endmonth.map(months)\n",
    "moon_phases.month = moon_phases.month.map(months)\n",
    "constellations.bestmonth = constellations.bestmonth.map(months)"
   ]
  },
  {
   "cell_type": "markdown",
   "metadata": {},
   "source": [
    "Convertendo meses e dias de meteor_showers e moon_phases em um tipo chamado \"datetime\":"
   ]
  },
  {
   "cell_type": "code",
   "execution_count": 7,
   "metadata": {},
   "outputs": [],
   "source": [
    "meteor_showers['startdate'] = pd.to_datetime(2020*10000+meteor_showers.startmonth*100+meteor_showers.startday,format='%Y%m%d')\n",
    "meteor_showers['enddate'] = pd.to_datetime(2020*10000+meteor_showers.endmonth*100+meteor_showers.endday,format='%Y%m%d')\n",
    "moon_phases['date'] = pd.to_datetime(2020*10000+moon_phases.month*100+moon_phases.day,format='%Y%m%d')"
   ]
  },
  {
   "cell_type": "markdown",
   "metadata": {},
   "source": [
    "Convertendo os dados do hemisfério em números utilizando o processo de mapeamento:"
   ]
  },
  {
   "cell_type": "code",
   "execution_count": 8,
   "metadata": {},
   "outputs": [],
   "source": [
    "hemispheres = {'northern':0, 'southern':1, 'northern, southern':3}\n",
    "meteor_showers.hemisphere = meteor_showers.hemisphere.map(hemispheres)\n",
    "constellations.hemisphere = constellations.hemisphere.map(hemispheres)"
   ]
  },
  {
   "cell_type": "markdown",
   "metadata": {},
   "source": [
    "Convertendo as fases da Lua em números que representam o percentual da Lua que está visível, adicionando uma nova coluna para representar os dados:"
   ]
  },
  {
   "cell_type": "code",
   "execution_count": 9,
   "metadata": {},
   "outputs": [
    {
     "data": {
      "text/html": [
       "<div>\n",
       "<style scoped>\n",
       "    .dataframe tbody tr th:only-of-type {\n",
       "        vertical-align: middle;\n",
       "    }\n",
       "\n",
       "    .dataframe tbody tr th {\n",
       "        vertical-align: top;\n",
       "    }\n",
       "\n",
       "    .dataframe thead th {\n",
       "        text-align: right;\n",
       "    }\n",
       "</style>\n",
       "<table border=\"1\" class=\"dataframe\">\n",
       "  <thead>\n",
       "    <tr style=\"text-align: right;\">\n",
       "      <th></th>\n",
       "      <th>month</th>\n",
       "      <th>day</th>\n",
       "      <th>moonphase</th>\n",
       "      <th>specialevent</th>\n",
       "      <th>date</th>\n",
       "      <th>percentage</th>\n",
       "    </tr>\n",
       "  </thead>\n",
       "  <tbody>\n",
       "    <tr>\n",
       "      <th>0</th>\n",
       "      <td>1</td>\n",
       "      <td>1</td>\n",
       "      <td>NaN</td>\n",
       "      <td>NaN</td>\n",
       "      <td>2020-01-01</td>\n",
       "      <td>NaN</td>\n",
       "    </tr>\n",
       "    <tr>\n",
       "      <th>1</th>\n",
       "      <td>1</td>\n",
       "      <td>2</td>\n",
       "      <td>first quarter</td>\n",
       "      <td>NaN</td>\n",
       "      <td>2020-01-02</td>\n",
       "      <td>0.5</td>\n",
       "    </tr>\n",
       "    <tr>\n",
       "      <th>2</th>\n",
       "      <td>1</td>\n",
       "      <td>3</td>\n",
       "      <td>NaN</td>\n",
       "      <td>NaN</td>\n",
       "      <td>2020-01-03</td>\n",
       "      <td>NaN</td>\n",
       "    </tr>\n",
       "    <tr>\n",
       "      <th>3</th>\n",
       "      <td>1</td>\n",
       "      <td>4</td>\n",
       "      <td>NaN</td>\n",
       "      <td>NaN</td>\n",
       "      <td>2020-01-04</td>\n",
       "      <td>NaN</td>\n",
       "    </tr>\n",
       "    <tr>\n",
       "      <th>4</th>\n",
       "      <td>1</td>\n",
       "      <td>5</td>\n",
       "      <td>NaN</td>\n",
       "      <td>NaN</td>\n",
       "      <td>2020-01-05</td>\n",
       "      <td>NaN</td>\n",
       "    </tr>\n",
       "  </tbody>\n",
       "</table>\n",
       "</div>"
      ],
      "text/plain": [
       "   month  day      moonphase specialevent       date  percentage\n",
       "0      1    1            NaN          NaN 2020-01-01         NaN\n",
       "1      1    2  first quarter          NaN 2020-01-02         0.5\n",
       "2      1    3            NaN          NaN 2020-01-03         NaN\n",
       "3      1    4            NaN          NaN 2020-01-04         NaN\n",
       "4      1    5            NaN          NaN 2020-01-05         NaN"
      ]
     },
     "execution_count": 9,
     "metadata": {},
     "output_type": "execute_result"
    }
   ],
   "source": [
    "phases = {'new moon':0,'third quarter':0.5, 'first quarter':0.5,'full moon':1.0}\n",
    "moon_phases['percentage'] = moon_phases.moonphase.map(phases)\n",
    "moon_phases.head()"
   ]
  },
  {
   "cell_type": "markdown",
   "metadata": {},
   "source": [
    "Removendo colunas inúteis:"
   ]
  },
  {
   "cell_type": "code",
   "execution_count": 10,
   "metadata": {},
   "outputs": [],
   "source": [
    "meteor_showers = meteor_showers.drop(['startmonth', 'startday', 'endmonth', 'endday', 'hemisphere'], axis=1)\n",
    "moon_phases = moon_phases.drop(['month','day','moonphase','specialevent'], axis=1)\n",
    "constellations = constellations.drop(['besttime'], axis=1)"
   ]
  },
  {
   "cell_type": "markdown",
   "metadata": {},
   "source": [
    "Executando um loop em cada linha e coluna no DataFrame moon_phases, substituindo o valor NaN pela última fase que apareceu que está salva na variável criada:\n"
   ]
  },
  {
   "cell_type": "code",
   "execution_count": 11,
   "metadata": {},
   "outputs": [
    {
     "name": "stdout",
     "output_type": "stream",
     "text": [
      "<class 'pandas.core.frame.DataFrame'>\n",
      "RangeIndex: 366 entries, 0 to 365\n",
      "Data columns (total 2 columns):\n",
      " #   Column      Non-Null Count  Dtype         \n",
      "---  ------      --------------  -----         \n",
      " 0   date        366 non-null    datetime64[ns]\n",
      " 1   percentage  366 non-null    float64       \n",
      "dtypes: datetime64[ns](1), float64(1)\n",
      "memory usage: 5.8 KB\n"
     ]
    }
   ],
   "source": [
    "lastPhase = 0\n",
    "\n",
    "for index, row in moon_phases.iterrows():\n",
    "    if pd.isnull(row['percentage']):\n",
    "        moon_phases.at[index,'percentage'] = lastPhase\n",
    "    else:\n",
    "        lastPhase = row['percentage']\n",
    "\n",
    "moon_phases.info()"
   ]
  },
  {
   "cell_type": "markdown",
   "metadata": {},
   "source": [
    "# Parte 2 - Escrevendo uma Função de Previsão"
   ]
  },
  {
   "cell_type": "markdown",
   "metadata": {},
   "source": [
    "Examinando os conjuntos de dados:"
   ]
  },
  {
   "cell_type": "code",
   "execution_count": 12,
   "metadata": {},
   "outputs": [
    {
     "name": "stdout",
     "output_type": "stream",
     "text": [
      "<class 'pandas.core.frame.DataFrame'>\n",
      "RangeIndex: 6 entries, 0 to 5\n",
      "Data columns (total 6 columns):\n",
      " #   Column               Non-Null Count  Dtype         \n",
      "---  ------               --------------  -----         \n",
      " 0   name                 6 non-null      object        \n",
      " 1   radiant              6 non-null      object        \n",
      " 2   bestmonth            6 non-null      int64         \n",
      " 3   preferredhemisphere  6 non-null      object        \n",
      " 4   startdate            6 non-null      datetime64[ns]\n",
      " 5   enddate              6 non-null      datetime64[ns]\n",
      "dtypes: datetime64[ns](2), int64(1), object(3)\n",
      "memory usage: 416.0+ bytes\n",
      "<class 'pandas.core.frame.DataFrame'>\n",
      "RangeIndex: 366 entries, 0 to 365\n",
      "Data columns (total 2 columns):\n",
      " #   Column      Non-Null Count  Dtype         \n",
      "---  ------      --------------  -----         \n",
      " 0   date        366 non-null    datetime64[ns]\n",
      " 1   percentage  366 non-null    float64       \n",
      "dtypes: datetime64[ns](1), float64(1)\n",
      "memory usage: 5.8 KB\n",
      "<class 'pandas.core.frame.DataFrame'>\n",
      "RangeIndex: 6 entries, 0 to 5\n",
      "Data columns (total 5 columns):\n",
      " #   Column         Non-Null Count  Dtype \n",
      "---  ------         --------------  ----- \n",
      " 0   constellation  6 non-null      object\n",
      " 1   bestmonth      6 non-null      int64 \n",
      " 2   latitudestart  6 non-null      int64 \n",
      " 3   latitudeend    6 non-null      int64 \n",
      " 4   hemisphere     6 non-null      int64 \n",
      "dtypes: int64(4), object(1)\n",
      "memory usage: 368.0+ bytes\n",
      "<class 'pandas.core.frame.DataFrame'>\n",
      "RangeIndex: 256 entries, 0 to 255\n",
      "Data columns (total 3 columns):\n",
      " #   Column    Non-Null Count  Dtype  \n",
      "---  ------    --------------  -----  \n",
      " 0   city      256 non-null    object \n",
      " 1   latitude  256 non-null    float64\n",
      " 2   country   256 non-null    object \n",
      "dtypes: float64(1), object(2)\n",
      "memory usage: 6.1+ KB\n"
     ]
    }
   ],
   "source": [
    "meteor_showers.info()\n",
    "moon_phases.info()\n",
    "constellations.info()\n",
    "cities.info()"
   ]
  },
  {
   "cell_type": "markdown",
   "metadata": {},
   "source": [
    "Criando uma função que use uma cidade como parâmetro:"
   ]
  },
  {
   "cell_type": "code",
   "execution_count": 26,
   "metadata": {},
   "outputs": [],
   "source": [
    "def predict_best_meteor_shower_viewing(city):\n",
    "\n",
    "    # criar uma string vazia para retornar a mensagem de resposta para o usuário:\n",
    "    meteor_shower_string = \"\"\n",
    "\n",
    "    if city not in cities.values:\n",
    "        meteor_shower_string = \"Unfortunately, \" + city + \" isn't available for a prediction at this time.\"\n",
    "        return meteor_shower_string\n",
    "\n",
    "    # atribui à variável o retorno da latitude da cidade do DataFrame cities \n",
    "    latitude = cities.loc[cities['city'] == city, 'latitude'].iloc[0]   # valor da linha 0    \n",
    "\n",
    "    # retorne a lista de constelações que são visíveis da latitude indicada:\n",
    "    constellation_list = constellations.loc[(constellations['latitudestart'] >= latitude) & (constellations['latitudeend'] <= latitude), 'constellation'].tolist()  # converte em uma lista\n",
    "\n",
    "    # avisando o usuário se nenhuma constelação for visível\n",
    "    if not constellation_list:\n",
    "        meteor_shower_string = \"Unfortunately, there are no meteor showers viewable from \"+ city + \".\"\n",
    "\n",
    "        return meteor_shower_string\n",
    "    \n",
    "    meteor_shower_string = \"In \" + city + \" you can see the following meteor showers:\\n\"  # retorno\n",
    "\n",
    "    # loop para verificar cada constelação que é visível em cada cidade\n",
    "    for constellation in constellation_list:\n",
    "\n",
    "        # encontre a chuva de meteoro que é a mais próxima da constelação \n",
    "        meteor_shower = meteor_showers.loc[meteor_showers['radiant'] == constellation, 'name'].iloc[0]\n",
    "\n",
    "        # encontre as datas iniciais e finais da chuva de meteoro\n",
    "        meteor_shower_startdate = meteor_showers.loc[meteor_showers['radiant'] == constellation, 'startdate'].iloc[0]\n",
    "        meteor_shower_enddate = meteor_showers.loc[meteor_showers['radiant'] == constellation, 'enddate'].iloc[0]\n",
    "\n",
    "        # encontre as fases da lua para cada fase dentro do frame de tempo de visualização da chuva de meteoros\n",
    "        moon_phases_list = moon_phases.loc[(moon_phases['date'] >= meteor_shower_startdate) & (moon_phases['date'] <= meteor_shower_enddate)]\n",
    "\n",
    "        # encontrar a primeira data em que a lua está menos visível\n",
    "        best_moon_date = moon_phases_list.loc[moon_phases_list['percentage'].idxmin()]['date']\n",
    "\n",
    "        # incluir os dados do filme\n",
    "        if meteor_shower == 'Chang\\'e':\n",
    "\n",
    "            # encontrar a data em que a lua está mais visível\n",
    "            best_moon_date = moon_phases_list.loc[moon_phases_list['percentage'].idxmax()]['date']\n",
    "\n",
    "            # adicionar a data ao string para retornar ao usuário\n",
    "            meteor_shower_string += \"Though the Moon will be bright, \" + meteor_shower + \"'s meteor shower is best seen if you look towards the \" + constellation + \" constellation on \" +  best_moon_date.to_pydatetime().strftime(\"%B %d, %Y\") + \".\\n\"\n",
    "        \n",
    "        else:\n",
    "\n",
    "            # encontre a primeira data em que a lua está menos visível\n",
    "            best_moon_date = moon_phases_list.loc[moon_phases_list['percentage'].idxmin()]['date']\n",
    "\n",
    "            # adicionar a data ao string para retornar ao usuário\n",
    "            meteor_shower_string += meteor_shower + \" is best seen if you look towards the \" + constellation + \" constellation on \" +  best_moon_date.to_pydatetime().strftime(\"%B %d, %Y\") + \".\\n\"\n",
    "    \n",
    "    return meteor_shower_string"
   ]
  },
  {
   "cell_type": "markdown",
   "metadata": {},
   "source": [
    "# Parte 3 - Adicionando dados da história de Chang'e"
   ]
  },
  {
   "cell_type": "markdown",
   "metadata": {},
   "source": [
    "Foram criadas entradas da chuva de meteoro Chang'e e da constelação Draco para incluir os dados no DataFrame. Ambas foram colocadas respectivamente nas células 3 e 4."
   ]
  },
  {
   "cell_type": "code",
   "execution_count": 28,
   "metadata": {},
   "outputs": [
    {
     "name": "stdout",
     "output_type": "stream",
     "text": [
      "In Beijing you can see the following meteor showers:\n",
      "Lyrids is best seen if you look towards the Lyra constellation on April 22, 2020.\n",
      "Eta Aquarids is best seen if you look towards the Aquarius constellation on April 22, 2020.\n",
      "Orionids is best seen if you look towards the Orion constellation on October 16, 2020.\n",
      "Perseids is best seen if you look towards the Perseus constellation on July 20, 2020.\n",
      "Though the Moon will be bright, Chang'e's meteor shower is best seen if you look towards the Draco constellation on October 01, 2020.\n",
      "\n"
     ]
    }
   ],
   "source": [
    "print(predict_best_meteor_shower_viewing('Beijing'))"
   ]
  },
  {
   "cell_type": "markdown",
   "metadata": {},
   "source": [
    "Foram incluída alterações na função preditiva para alinhá-la com o filme."
   ]
  }
 ],
 "metadata": {
  "kernelspec": {
   "display_name": "Python 3",
   "language": "python",
   "name": "python3"
  },
  "language_info": {
   "codemirror_mode": {
    "name": "ipython",
    "version": 3
   },
   "file_extension": ".py",
   "mimetype": "text/x-python",
   "name": "python",
   "nbconvert_exporter": "python",
   "pygments_lexer": "ipython3",
   "version": "3.10.13"
  }
 },
 "nbformat": 4,
 "nbformat_minor": 2
}
